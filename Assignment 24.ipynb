{
 "cells": [
  {
   "cell_type": "code",
   "execution_count": 1,
   "metadata": {},
   "outputs": [],
   "source": [
    "import numpy as np\n",
    "import cv2 as cv\n",
    "import math\n",
    "import matplotlib.pyplot as plt "
   ]
  },
  {
   "cell_type": "code",
   "execution_count": 2,
   "metadata": {},
   "outputs": [],
   "source": [
    "cap = cv.VideoCapture('RyanRun.mp4')\n",
    "template = cv.imread('hip.png', 0)\n",
    "\n",
    "w, h = template.shape[::-1]\n",
    "method = eval('cv.TM_CCOEFF_NORMED')\n",
    "\n",
    "frame_count = 0\n",
    "hip_pos = np.zeros((1082-870 + 1, 2))\n",
    "\n",
    "rng = 20\n",
    "\n",
    "first = True\n",
    "\n",
    "x_position = []\n",
    "y_position = []\n",
    "\n",
    "while(cap.isOpened()): \n",
    "    if frame_count < 873: \n",
    "        cap.grab() \n",
    "        x1 = 0\n",
    "        x2 = 480\n",
    "        y1 = 0\n",
    "        y2 = 640\n",
    "    elif frame_count > 1082: \n",
    "        break\n",
    "    else: \n",
    "        ret, frame = cap.read() \n",
    "        gray = cv.cvtColor(frame, cv.COLOR_BGR2GRAY) \n",
    "        #print gray.shape #480 x 640\n",
    "        \n",
    "#         plt.imshow(gray[x1:x2, y1:y2], 'gray')\n",
    "#         plt.show()\n",
    "        res = cv.matchTemplate(gray[x1:x2, y1:y2], template, method) \n",
    "        \n",
    "        min_val, max_val, min_loc, max_loc = cv.minMaxLoc(res)\n",
    "    \n",
    "        top_left = max_loc # this is a relative position of the top left inside a small window\n",
    "        hip_pos[(frame_count - 870)] = top_left \n",
    "        bottom_right = (top_left[0] + w, top_left[1] + h)\n",
    "        \n",
    "#         print \"topleft:\", top_left\n",
    "        if first == False:\n",
    "            # you need to add previous top_left value back to the relative position\n",
    "            absolute_top_left = (top_left[1] + x1, top_left[0] + y1)\n",
    "            absolute_bottom_right = (bottom_right[1] + x1, bottom_right[0] + y1)\n",
    "#         if math.hypot(top_left[0] - prev_top_left[0], top_left[1] - prev_top_left[1]) < 0.5: \n",
    "            \n",
    "#             print absolute_top_left\n",
    "        elif first == True: \n",
    "            absolute_top_left = (top_left[1], top_left[0])\n",
    "            absolute_bottom_right = (bottom_right[1], bottom_right[0])\n",
    "        \n",
    "        x1 = max(int(absolute_top_left[0] - rng), 0)\n",
    "        x2 = min(int(absolute_bottom_right[0] + rng), 480)\n",
    "        y1 = max(int(absolute_top_left[1] - rng), 0)\n",
    "        y2 = min(int(absolute_bottom_right[1] + rng), 640)\n",
    "        \n",
    "#         print \"x1:\", x1, \"x2:\", x2, \"y1:\", y1, \"y2:\", y2\n",
    "#         print absolute_top_left\n",
    "        \n",
    "        x_position.append(x1)\n",
    "        y_position.append(y1)\n",
    "\n",
    "        #cv.rectangle(frame, top_left, bottom_right, (0, 255, 255), 5)\n",
    "        cv.rectangle(frame, (absolute_top_left[1], absolute_top_left[0]), (absolute_bottom_right[1],absolute_bottom_right[0]), (0, 255, 255), 5)\n",
    "        \n",
    "        cv.imshow('Ryan\\'s Run', frame)\n",
    "        \n",
    "        first = False\n",
    "        \n",
    "        if cv.waitKey(1) == ord('q'): \n",
    "            break\n",
    "    frame_count += 1\n",
    "        \n",
    "cap.release()\n",
    "cv.destroyAllWindows()"
   ]
  },
  {
   "cell_type": "code",
   "execution_count": 3,
   "metadata": {},
   "outputs": [
    {
     "data": {
      "image/png": "[encoded data removed]",
      "text/plain": [
       "<Figure size 432x288 with 1 Axes>"
      ]
     },
     "metadata": {},
     "output_type": "display_data"
    }
   ],
   "source": [
    "x_position = np.array(x_position)\n",
    "y_position = np.array(y_position)\n",
    "x_position += 30\n",
    "y_position += 30\n",
    "\n",
    "plt.plot(y_position, x_position)\n",
    "plt.gca().invert_yaxis()\n",
    "plt.title('Hip Trace')\n",
    "plt.xlabel('X Pixel')\n",
    "plt.ylabel('Y Pixel')\n",
    "plt.show()"
   ]
  },
  {
   "cell_type": "code",
   "execution_count": null,
   "metadata": {},
   "outputs": [],
   "source": []
  }
 ],
 "metadata": {
  "kernelspec": {
   "display_name": "Python 2",
   "language": "python",
   "name": "python2"
  },
  "language_info": {
   "codemirror_mode": {
    "name": "ipython",
    "version": 2
   },
   "file_extension": ".py",
   "mimetype": "text/x-python",
   "name": "python",
   "nbconvert_exporter": "python",
   "pygments_lexer": "ipython2",
   "version": "2.7.15"
  }
 },
 "nbformat": 4,
 "nbformat_minor": 2
}
